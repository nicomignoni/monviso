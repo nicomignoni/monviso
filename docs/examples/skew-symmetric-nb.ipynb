{
 "cells": [
  {
   "cell_type": "markdown",
   "id": "e6acb3e2-d7d3-49d4-af04-abe1b5ae3197",
   "metadata": {},
   "source": [
    "# Skew-symmetric operator\n",
    "\n",
    "A simple example of monotone operator that is not (even locally) strongly monotone is the skewed-symmetric operator [1], $F : \\mathbb{R}^{MN} \\to \\mathbb{R}^{MN}$, which is described as follows\n",
    "\n",
    "$$\n",
    "\\begin{equation}\n",
    "    F(\\mathbf{x}) = \\begin{bmatrix} \\mathbf{A}_1 & & \\\\ & \\ddots & \\\\ & & \\mathbf{A}_M \\end{bmatrix} \\mathbf{x}\n",
    "\\end{equation}\n",
    "$$\n",
    "\n",
    "for a given $M \\in \\mathbb{N}$, where $\\mathbf{A}_i = \\text{tril}(\\mathbf{B}_i) - \\text{triu}(\\mathbf{B}_i)$, for some arbitrary $0 \\preceq \\mathbf{B}_i \\in \\mathbb{R}^{N \\times N}$, for all $i = 1, \\dots, M$. \n",
    "\n",
    "## References\n",
    "[1] Bauschke, H. H., & Combettes, P. L. Convex Analysis and Monotone Operator Theory in Hilbert Spaces.\n"
   ]
  },
  {
   "cell_type": "code",
   "execution_count": 1,
   "id": "b412f015-a85c-4120-9729-740a1edbfc7f",
   "metadata": {},
   "outputs": [
    {
     "name": "stdout",
     "output_type": "stream",
     "text": [
      "Using: eg\n",
      "Using: popov\n",
      "Using: fbf\n",
      "Using: frb\n",
      "Using: prg\n",
      "Using: eag\n",
      "Using: arg\n",
      "Using: fogda\n",
      "Using: graal\n",
      "Using: agraal\n",
      "Using: hgraal_1\n",
      "Using: hgraal_2\n"
     ]
    },
    {
     "data": {
      "image/png": "[encoded data removed]",
      "text/plain": [
       "<Figure size 210x5 with 1 Axes>"
      ]
     },
     "metadata": {},
     "output_type": "display_data"
    },
    {
     "data": {
      "image/png": "[encoded data removed]",
      "text/plain": [
       "<Figure size 175x180 with 1 Axes>"
      ]
     },
     "metadata": {},
     "output_type": "display_data"
    }
   ],
   "source": [
    "import numpy as np\n",
    "import scipy as sp\n",
    "import cvxpy as cp\n",
    "import matplotlib.pyplot as plt\n",
    "\n",
    "from utils import *\n",
    "from monviso import VI\n",
    "\n",
    "np.random.rand(2024)\n",
    "\n",
    "M, N = 20, 10\n",
    "\n",
    "# Create the problem variables\n",
    "Bs = [random_positive_definite_matrix(0, 1, N) for _ in range(M)]\n",
    "A = sp.linalg.block_diag(*[np.tril(B) - np.triu(B) for B in Bs])\n",
    "\n",
    "F = lambda x: A @ x\n",
    "L = np.linalg.norm(A, 2)\n",
    "\n",
    "# Create the VI and the initial solution(s)\n",
    "sso = VI(N * M, F)\n",
    "x0 = [np.random.rand(N * M) for _ in range(2)]\n",
    "\n",
    "# Solve the VI using the available algorithms\n",
    "max_iter = 200\n",
    "for algorithm, params in cases(x0, L, excluded={\"pg\", \"cfogda\"}).items():\n",
    "    print(f\"Using: {algorithm}\")\n",
    "    sol = sso.solution(\n",
    "        algorithm,\n",
    "        params,\n",
    "        max_iter,\n",
    "        eval_func=lambda x: np.linalg.norm(F(x), 2),\n",
    "        log_path=f\"logs/skew-symmetric/{algorithm}.log\",\n",
    "    )\n",
    "\n",
    "plot_results(\n",
    "    \"logs/skew-symmetric\",\n",
    "    \"figs/skew-symmetric.pdf\",\n",
    "    r\"$\\|F(\\mathbf{x}_k))\\|$\",\n",
    ")\n"
   ]
  }
 ],
 "metadata": {
  "kernelspec": {
   "display_name": "Python (monviso)",
   "language": "python",
   "name": "myenv"
  },
  "language_info": {
   "codemirror_mode": {
    "name": "ipython",
    "version": 3
   },
   "file_extension": ".py",
   "mimetype": "text/x-python",
   "name": "python",
   "nbconvert_exporter": "python",
   "pygments_lexer": "ipython3",
   "version": "3.13.5"
  }
 },
 "nbformat": 4,
 "nbformat_minor": 5
}
