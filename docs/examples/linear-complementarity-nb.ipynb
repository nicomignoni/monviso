{
 "cells": [
  {
   "cell_type": "markdown",
   "id": "c813b4be-15ab-4fad-a642-d53442f3e3b5",
   "metadata": {},
   "source": [
    "# Linear Complementarity Problem\n",
    "\n",
    "A common problem that can be cast to a VI is the linear complementarity problem [1]: given $\\mathbf{q} \\in \\mathbb{R}^n$ and $0 \\prec \\mathbf{M} \\in \\mathbb{R}^{n \\times n}$, one want to solve the following \n",
    "\n",
    "$$\n",
    "\\begin{equation}\n",
    "    \\label{eq:complementarity}\n",
    "    \\text{find $\\mathbf{x} \\in \\mathbb{R}^n_{\\geq 0}$ s.t. $\\mathbf{y} = \\mathbf{M}\\mathbf{x} + \\mathbf{q}$, $\\mathbf{y}^\\top \\mathbf{x} = 0$}\n",
    "\\end{equation}\n",
    "$$\n",
    "\n",
    "By setting $F(\\mathbf{x}) = - \\mathbf{M}\\mathbf{x} - \\mathbf{q}$ and $\\mathcal{S} = \\mathbb{R}_{\\geq 0}$ it can be readily verified that each solution for $(\\mathbf{x} - \\mathbf{x}^*)^\\top F(\\mathbf{x}^*) \\geq 0$ is also a solution for $\\eqref{eq:complementarity}$. \n",
    "\n",
    "## References\n",
    "[1] Harker, P. T., & Pang, J. S. (1990). For the linear complementarity problem. Lectures in Applied Mathematics, 26, 265-284.\n"
   ]
  },
  {
   "cell_type": "code",
   "execution_count": 1,
   "id": "6da27416-ca32-46c1-bb75-430d8eb50d03",
   "metadata": {},
   "outputs": [
    {
     "name": "stdout",
     "output_type": "stream",
     "text": [
      "Using: pg\n",
      "Using: eg\n",
      "Using: popov\n",
      "Using: fbf\n",
      "Using: frb\n",
      "Using: prg\n",
      "Using: eag\n",
      "Using: arg\n",
      "Using: graal\n",
      "Using: agraal\n",
      "Using: hgraal_1\n",
      "Using: hgraal_2\n"
     ]
    },
    {
     "data": {
      "image/png": "[encoded data removed]",
      "text/plain": [
       "<Figure size 210x5 with 1 Axes>"
      ]
     },
     "metadata": {},
     "output_type": "display_data"
    },
    {
     "data": {
      "image/png": "[encoded data removed]",
      "text/plain": [
       "<Figure size 175x180 with 1 Axes>"
      ]
     },
     "metadata": {},
     "output_type": "display_data"
    }
   ],
   "source": [
    "import numpy as np\n",
    "import cvxpy as cp\n",
    "\n",
    "from utils import *\n",
    "from monviso import VI\n",
    "\n",
    "np.random.seed(2024)\n",
    "\n",
    "# Problem data\n",
    "n = 5\n",
    "q = np.random.uniform(-10, 10, size=n)\n",
    "M = random_positive_definite_matrix(-10, 10, n)\n",
    "\n",
    "# Define the mapping and constraints' set\n",
    "F = lambda x: -(q + M @ x)\n",
    "L = np.linalg.norm(M, 2)\n",
    "S = [lambda x: x >= 0, lambda x: -q @ x - cp.quad_form(x, M) >= 0]\n",
    "\n",
    "# Define the VI and the initial(s) points\n",
    "lcp = VI(n, F, S=S)\n",
    "x0 = []\n",
    "x = cp.Variable(n)\n",
    "for _ in range(2):\n",
    "    prob = cp.Problem(\n",
    "        cp.Minimize(np.random.rand(n) @ x),\n",
    "        constraints=[constraint(x) for constraint in S],\n",
    "    ).solve()\n",
    "    x0.append(x.value)\n",
    "\n",
    "# Solve the VI using the available algorithms\n",
    "max_iter = 200\n",
    "for algorithm, params in cases(x0, L, excluded={\"fogda\", \"cfogda\"}).items():\n",
    "    print(f\"Using: {algorithm}\")\n",
    "    sol = lcp.solution(\n",
    "        algorithm,\n",
    "        params,\n",
    "        max_iter,\n",
    "        log_path=f\"logs/linear-complementarity/{algorithm}.log\",\n",
    "    )\n",
    "\n",
    "plot_results(\n",
    "    \"logs/linear-complementarity\",\n",
    "    \"figs/linear-complementarity.pdf\",\n",
    "    r\"$\\|\\mathbf{x}_k \\! - \\! \\text{proj}_{\\mathcal{S}}(\\mathbf{x}_k \\! - \\! F(\\mathbf{x}_k))\\|$\",\n",
    ")"
   ]
  }
 ],
 "metadata": {
  "kernelspec": {
   "display_name": "Python (monviso)",
   "language": "python",
   "name": "myenv"
  },
  "language_info": {
   "codemirror_mode": {
    "name": "ipython",
    "version": 3
   },
   "file_extension": ".py",
   "mimetype": "text/x-python",
   "name": "python",
   "nbconvert_exporter": "python",
   "pygments_lexer": "ipython3",
   "version": "3.13.5"
  }
 },
 "nbformat": 4,
 "nbformat_minor": 5
}
