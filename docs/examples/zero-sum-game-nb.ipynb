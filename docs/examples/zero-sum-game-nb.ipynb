{
 "cells": [
  {
   "cell_type": "markdown",
   "id": "e32d6279-02fd-4ff7-a876-0f55f286c8af",
   "metadata": {},
   "source": [
    "# Two Players Zero-Sum Game\n",
    "\n",
    "Many example of non-cooperative behavior between two adversarial agents can be modelled through zero-sum games [1]. Let us consider vectors $\\mathbf{x}_i \\in \\Delta_i$ as the decision variable of the $i$-th player, with $i \\in \\{1,2\\}$, where $\\Delta_i \\subset \\mathbb{R}^{n_i}$ is the simplex constraints set defined as $\\Delta_i := \\{\\mathbf{x} \\in \\mathbb{R}^{n_i} : \\mathbf{1}^\\top \\mathbf{x} = 1\\}$, for all $i \\in \\{1,2\\}$. Let $\\mathbf{x} := \\text{col}(\\mathbf{x}_i)_{i = 1}^2$. The players try to solve the following problem\n",
    "\n",
    "$$\n",
    "\\begin{equation}\n",
    "    \\min_{\\mathbf{x}_1 \\in \\Delta_1} \\max_{\\mathbf{x}_2 \\in \\Delta_2} \\Phi(\\mathbf{x}_1, \\mathbf{x}_2)\n",
    "\\end{equation}\n",
    "$$\n",
    "\n",
    "whose (Nash) equilibrium solution is achieved for $\\mathbf{x}^*` satisfying the following\n",
    "\n",
    "$$\n",
    "\\begin{equation}\n",
    "    \\label{eq:saddle}\n",
    "    \\Phi(\\mathbf{x}^*_1, \\mathbf{x}_2) \\leq \\Phi(\\mathbf{x}^*_1, \\mathbf{x}^*_2) \\leq \\Phi(\\mathbf{x}_1, \\mathbf{x}^*_2), \\quad \\forall \\mathbf{x} \\in \\Delta_1 \\times \\Delta_2\n",
    "\\end{equation}\n",
    "$$\n",
    "\n",
    "For the sake of simplicity, we consider $\\Phi(\\mathbf{x}_1, \\mathbf{x}_2) := \\mathbf{x}^\\top_1 \\mathbf{H} \\mathbf{x}_2$, for some $\\mathbf{H} \\in \\mathbb{R}^{n_1 \\times n_2}$. Doing so, the equilibrium condition in the previous equation can be written as a VI, with the mapping $F : \\mathbb{R}^{n_1 + n_2} \\to \\mathbb{R}^{n_1 + n_2}$ defined as\n",
    "\n",
    "$$\n",
    "\\begin{equation}\n",
    "    F(\\mathbf{x}) = \\begin{bmatrix} \\mathbf{H} \\mathbf{x}_1 \\\\ -\\mathbf{H}^\\top \\mathbf{x}_2 \\end{bmatrix} = \\begin{bmatrix} & \\mathbf{H} \\\\ -\\mathbf{H}^\\top & \\end{bmatrix} \\mathbf{x}\n",
    "\\end{equation}\n",
    "$$\n",
    "\n",
    "and $\\mathcal{S} = \\Delta_1 \\times \\Delta_2$\n",
    "\n",
    "## References\n",
    "[1] Lemke, C. E., & Howson, Jr, J. T. (1964). Equilibrium points of bimatrix games. Journal of the Society for industrial and Applied Mathematics, 12(2), 413-423.\n"
   ]
  },
  {
   "cell_type": "code",
   "execution_count": 2,
   "id": "a152dc4d-4687-4e70-b186-23fd56acf624",
   "metadata": {},
   "outputs": [
    {
     "name": "stdout",
     "output_type": "stream",
     "text": [
      "Using: eg\n",
      "Using: popov\n",
      "Using: fbf\n",
      "Using: frb\n",
      "Using: prg\n",
      "Using: eag\n",
      "Using: arg\n",
      "Using: graal\n",
      "Using: agraal\n",
      "Using: hgraal_1\n",
      "Using: hgraal_2\n"
     ]
    },
    {
     "data": {
      "image/png": "[encoded data removed]",
      "text/plain": [
       "<Figure size 210x5 with 1 Axes>"
      ]
     },
     "metadata": {},
     "output_type": "display_data"
    },
    {
     "data": {
      "image/png": "[encoded data removed]",
      "text/plain": [
       "<Figure size 175x180 with 1 Axes>"
      ]
     },
     "metadata": {},
     "output_type": "display_data"
    }
   ],
   "source": [
    "import numpy as np\n",
    "import cvxpy as cp\n",
    "import matplotlib.pyplot as plt\n",
    "\n",
    "from utils import *\n",
    "from monviso import VI\n",
    "\n",
    "np.random.seed(2024)\n",
    "\n",
    "n1, n2 = 50, 50\n",
    "\n",
    "# Game matrix\n",
    "H = np.random.rand(n1, n2)\n",
    "H_block = np.block([[np.zeros((n1, n2)), H], [-H.T, np.zeros((n1, n2))]])\n",
    "\n",
    "# VI operators with Liptshitz constant\n",
    "F = lambda x: H_block @ x\n",
    "L = np.linalg.norm(H_block, 2)\n",
    "\n",
    "# Simplex constraints' set\n",
    "x = cp.Variable(n1 + n2)\n",
    "S = [lambda x: cp.sum(x[:n1]) == 1, lambda x: cp.sum(x[n1:]) == 1]\n",
    "\n",
    "# Define the two-players zero sum game as a Variational Inequality\n",
    "tpzsg = VI(n1 + n2, F, S=S)\n",
    "\n",
    "# Create two initial (feasible) points\n",
    "x0 = []\n",
    "for i in range(2):\n",
    "    x0.append(np.random.rand(n1 + n2))\n",
    "    x0[i][:n1] /= x0[i][:n1].sum()\n",
    "    x0[i][n1:] /= x0[i][n1:].sum()\n",
    "\n",
    "# Solve the VI using the available algorithms\n",
    "max_iter = 200\n",
    "for algorithm, params in cases(x0, L, excluded={\"pg\", \"fogda\", \"cfogda\"}).items():\n",
    "    print(f\"Using: {algorithm}\")\n",
    "    sol = tpzsg.solution(\n",
    "        algorithm,\n",
    "        params,\n",
    "        max_iter,\n",
    "        log_path=f\"logs/zero-sum-game/{algorithm}.log\",\n",
    "    )\n",
    "\n",
    "plot_results(\n",
    "    \"logs/zero-sum-game\",\n",
    "    \"figs/zero-sum-game.pdf\",\n",
    "    r\"$\\|\\mathbf{x}_k \\! - \\! \\text{proj}_{\\mathcal{S}}(\\mathbf{x}_k \\! - \\! F(\\mathbf{x}_k))\\|$\",\n",
    ")\n"
   ]
  }
 ],
 "metadata": {
  "kernelspec": {
   "display_name": "Python (monviso)",
   "language": "python",
   "name": "myenv"
  },
  "language_info": {
   "codemirror_mode": {
    "name": "ipython",
    "version": 3
   },
   "file_extension": ".py",
   "mimetype": "text/x-python",
   "name": "python",
   "nbconvert_exporter": "python",
   "pygments_lexer": "ipython3",
   "version": "3.13.5"
  }
 },
 "nbformat": 4,
 "nbformat_minor": 5
}
