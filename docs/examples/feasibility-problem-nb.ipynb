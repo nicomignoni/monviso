{
 "cells": [
  {
   "cell_type": "markdown",
   "id": "293cc9d7-0281-4636-b803-89ce7e438ade",
   "metadata": {},
   "source": [
    "# Feasibility problem\n",
    "\n",
    "Let us consider $M$ balls in $\\mathbb{R}^n$, where the $i$-th ball of radius $r_i > 0$ centered in $\\mathbf{c}_i \\in \\mathbb{R}^n$ is given by $\\mathcal{B}_i(\\mathbf{c}_i, r_i) \\subset \\mathbb{R}^n$. We are interested in finding a point belonging to their intersection, i.e., we want to solve the following\n",
    "\n",
    "$$\n",
    "\\begin{equation} \n",
    "    \\label{eq:intersection}\n",
    "    \\text{find} \\ \\mathbf{x} \\ \\text{subject to} \\ \\mathbf{x} \\in \\bigcap_{i = 1}^M \\mathcal{B}_i(\\mathbf{c}_i, r_i)\n",
    "\\end{equation}\n",
    "$$\n",
    "\n",
    "It is straightforward to verify that the projection of a point onto $\\mathcal{B}_i(\\mathbf{c}_i,r_i)$ is evaluated as\n",
    "\n",
    "$$\n",
    "\\begin{equation}\n",
    "    \\label{eq:projection}\n",
    "    \\mathsf{P}_i(\\mathbf{x}) := \n",
    "    \\text{proj}_{\\mathcal{B}_i(\\mathbf{c}_i,r_i)}(\\mathbf{x}) = \n",
    "    \\begin{cases}\n",
    "        \\displaystyle r_i\\frac{\\mathbf{x} - \n",
    "        \\mathbf{c}_i}{\\|\\mathbf{x} - \\mathbf{c}_i\\|} & \\text{if} \\ \\|\\mathbf{x} - \\mathbf{c}_i\\| > r_i \\\\\n",
    "        x & \\text{otherwise}\n",
    "    \\end{cases}\n",
    "\\end{equation}\n",
    "$$\n",
    "\n",
    "Due to the non-expansiveness of the projection in $\\eqref{eq:projection}$, one can find a solution for $\\eqref{eq:intersection}$ as the fixed point of the following iterate \n",
    "\n",
    "$$\n",
    "\\begin{equation}\n",
    "    \\label{eq:krasnoselskii-mann}\n",
    "    \\mathbf{x}_{k+1} = \\mathsf{T}(\\mathbf{x}_k) = \\frac{1}{M}\\sum_{i = 1}^M\\mathsf{P}_i(\\mathbf{x}_k) \n",
    "\\end{equation}\n",
    "$$\n",
    "\n",
    "which result from the well-known Krasnoselskii-Mann iterate. By letting $F = \\mathsf{I} - \\mathsf{T}$, where $\\mathsf{I}$ denotes the identity operator, the fixed point for $\\eqref{eq:krasnoselskii-mann}$ can be treated as the canonical VI [1]. \n",
    "\n",
    "## References\n",
    "[1] Bauschke, H. H., & Borwein, J. M. (1996). On projection algorithms for solving convex feasibility problems. SIAM review, 38(3), 367-426."
   ]
  },
  {
   "cell_type": "code",
   "execution_count": 4,
   "id": "ff1e13f1-ed46-426c-9727-cb41d5e6b93f",
   "metadata": {},
   "outputs": [
    {
     "name": "stdout",
     "output_type": "stream",
     "text": [
      "Using: eg\n",
      "Using: popov\n",
      "Using: fbf\n",
      "Using: frb\n",
      "Using: prg\n",
      "Using: eag\n",
      "Using: arg\n",
      "Using: graal\n",
      "Using: agraal\n",
      "Using: hgraal_1\n",
      "Using: hgraal_2\n"
     ]
    },
    {
     "data": {
      "image/png": "[encoded data removed]",
      "text/plain": [
       "<Figure size 210x5 with 1 Axes>"
      ]
     },
     "metadata": {},
     "output_type": "display_data"
    },
    {
     "data": {
      "image/png": "[encoded data removed]",
      "text/plain": [
       "<Figure size 175x180 with 1 Axes>"
      ]
     },
     "metadata": {},
     "output_type": "display_data"
    }
   ],
   "source": [
    "import numpy as np\n",
    "import cvxpy as cp\n",
    "import matplotlib.pyplot as plt\n",
    "\n",
    "from utils import *\n",
    "from monviso import VI\n",
    "\n",
    "np.random.seed(2024)\n",
    "\n",
    "# Problem data\n",
    "n, M = 1000, 2000\n",
    "c = np.random.normal(0, 100, size=(M, n))\n",
    "r = 1 - np.linalg.norm(c, axis=0)\n",
    "\n",
    "# Projection operator and VI mapping, with its Liptshitz constant\n",
    "P = lambda x: np.where(\n",
    "    np.linalg.norm(x - c) > r, r * (x - c) / np.linalg.norm(x - c, axis=0), x\n",
    ")\n",
    "F = lambda x: x - P(x).mean(axis=0)\n",
    "L = 10\n",
    "\n",
    "# Define the VI\n",
    "fp = VI(n, F)\n",
    "\n",
    "# Initial points\n",
    "x0 = [np.random.rand(n) for _ in range(2)]\n",
    "\n",
    "# Solve the VI using the available algorithms\n",
    "max_iter = 200\n",
    "for algorithm, params in cases(x0, L, excluded={\"pg\", \"cfogda\", \"fogda\"}).items():\n",
    "    print(f\"Using: {algorithm}\")\n",
    "    sol = fp.solution(\n",
    "        algorithm,\n",
    "        params,\n",
    "        max_iter,\n",
    "        log_path=f\"logs/feasibility/{algorithm}.log\",\n",
    "    )\n",
    "\n",
    "plot_results(\n",
    "    \"logs/feasibility\",\n",
    "    \"figs/feasibility.pdf\",\n",
    "    r\"$\\|\\mathbf{x}_k \\! - \\! \\text{proj}_{\\mathcal{S}}(\\mathbf{x}_k \\! - \\! F(\\mathbf{x}_k))\\|$\",\n",
    ")"
   ]
  }
 ],
 "metadata": {
  "kernelspec": {
   "display_name": "Python (monviso)",
   "language": "python",
   "name": "myenv"
  },
  "language_info": {
   "codemirror_mode": {
    "name": "ipython",
    "version": 3
   },
   "file_extension": ".py",
   "mimetype": "text/x-python",
   "name": "python",
   "nbconvert_exporter": "python",
   "pygments_lexer": "ipython3",
   "version": "3.13.5"
  }
 },
 "nbformat": 4,
 "nbformat_minor": 5
}
