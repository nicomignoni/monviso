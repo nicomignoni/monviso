{
 "cells": [
  {
   "cell_type": "markdown",
   "id": "496c2e94-ca83-435b-9a7c-94ed141e550a",
   "metadata": {},
   "source": [
    "# Sparse logistic regression\n",
    "\n",
    "Consider a dataset of $M$ rows and $N$ columns, so that $\\mathbf{A} = \\text{col}(\\mathbf{a}^\\top_i)_{i =1}^M \\in \\mathbb{R}^{M \\times N}$ is the dataset matrix, and $\\mathbf{a}_i \\in \\mathbb{R}^{N}$ is the $i$-th features vector for the $i$-th dataset row. Moreover, let $\\mathbf{b} \\in \\mathbb{R}^M$ be the target vector, so that $b_i \\in \\{-1,1\\}$ is the (binary) ground truth for the $i$-th data entry. \n",
    "The sparse logistic regression consists of finding the weight vector $\\mathbf{x} \\in \\mathbb{R}^N$ that minimizes the following loss function [1]\n",
    "\n",
    "$$\n",
    "\\begin{align}\n",
    "    \\label{eq:regression}\n",
    "        f(\\mathbf{x}) := \\sum_{i = 1}^M \\log\\left(1 + \\frac{1}{\\exp(b_i \\mathbf{a}^\\top_i \\mathbf{x})} \\right) + \\gamma \\|\\mathbf{x}\\|_1\n",
    "        \\\\ \\nonumber\n",
    "        = \\underbrace{\\mathbf{1}^\\top_M \\log(1 + \\exp(-\\mathbf{b} \\odot \\mathbf{A} \\mathbf{x}))}_{=:s(\\mathbf{x})} + \\underbrace{\\gamma \\|\\mathbf{x}\\|_1}_{=:g(\\mathbf{x})} \n",
    "\\end{align}\n",
    "$$\n",
    "\n",
    "where $\\gamma \\in \\mathbb{R}_{> 0}$ is the $\\ell_1$-regulation strength. The gradient for $s(\\cdot)$, $\\nabla s_\\mathbf{x}(\\mathbf{x})$, is calculated as\n",
    "\n",
    "$$\n",
    "\\begin{equation}\n",
    "    F(\\mathbf{x}) = \\nabla s_\\mathbf{x}(\\mathbf{x}) = -\\frac{\\mathbf{A}^\\top \\odot (\\mathbf{1}_N \\otimes \\mathbf{b}^\\top) \\odot \\exp(-\\mathbf{b} \\odot \\mathbf{A} \\mathbf{x})}{1 + \\exp(-\\mathbf{b} \\odot \\mathbf{A} \\mathbf{x})} \\mathbf{1}_M\n",
    "\\end{equation}\n",
    "$$\n",
    "\n",
    "The problem of finding the minimizer for $\\eqref{eq:regression}$ can be cast as a canonical VI, with $F(\\mathbf{x}) := \\nabla s_\\mathbf{x}(\\mathbf{x})$. \n",
    "\n",
    "## References\n",
    "[1] Mishchenko, K. (2023). Regularized Newton method with global convergence. SIAM Journal on Optimization, 33(3), 1440-1462.\n"
   ]
  },
  {
   "cell_type": "code",
   "execution_count": 1,
   "id": "6fc38673-4396-484f-ae57-c658de62f10a",
   "metadata": {},
   "outputs": [
    {
     "name": "stdout",
     "output_type": "stream",
     "text": [
      "Using: eg\n",
      "Using: popov\n",
      "Using: fbf\n",
      "Using: frb\n",
      "Using: prg\n",
      "Using: eag\n",
      "Using: arg\n",
      "Using: fogda\n",
      "Using: graal\n",
      "Using: agraal\n",
      "Using: hgraal_1\n",
      "Using: hgraal_2\n"
     ]
    },
    {
     "data": {
      "image/png": "[encoded data removed]",
      "text/plain": [
       "<Figure size 210x5 with 1 Axes>"
      ]
     },
     "metadata": {},
     "output_type": "display_data"
    },
    {
     "data": {
      "image/png": "[encoded data removed]",
      "text/plain": [
       "<Figure size 175x180 with 1 Axes>"
      ]
     },
     "metadata": {},
     "output_type": "display_data"
    }
   ],
   "source": [
    "import numpy as np\n",
    "import cvxpy as cp\n",
    "import matplotlib.pyplot as plt\n",
    "\n",
    "from utils import *\n",
    "from monviso import VI\n",
    "\n",
    "np.random.seed(2024)\n",
    "\n",
    "N, M = 500, 200\n",
    "\n",
    "# Train matrix, target vector, and regularization strength\n",
    "A = np.random.normal(size=(M, N))\n",
    "b = np.random.choice([-1, 1], size=M)\n",
    "gamma = 0.005 * np.linalg.norm(A.T @ b, np.inf)\n",
    "\n",
    "# VI mapping\n",
    "F = lambda x: -np.sum(\n",
    "    (A.T * np.tile(b, (N, 1))) * np.exp(-b * (A @ x)) / (1 + np.exp(-b * (A @ x))),\n",
    "    axis=1,\n",
    ")\n",
    "g = lambda x: gamma * cp.norm(x, 1)\n",
    "L = 1.5\n",
    "\n",
    "# Define the VI problem\n",
    "slr = VI(N, F, g)\n",
    "\n",
    "# Initial points\n",
    "x0 = [np.random.rand(N) for _ in range(2)]\n",
    "\n",
    "# Solve the VI using the available algorithms\n",
    "max_iter = 200\n",
    "for algorithm, params in cases(x0, L, excluded={\"pg\", \"cfogda\"}).items():\n",
    "    print(f\"Using: {algorithm}\")\n",
    "    sol = slr.solution(\n",
    "        algorithm,\n",
    "        params,\n",
    "        max_iter,\n",
    "        log_path=f\"logs/logistic-regression/{algorithm}.log\",\n",
    "    )\n",
    "\n",
    "plot_results(\n",
    "    \"logs/logistic-regression\",\n",
    "    \"figs/logistic-regression.pdf\",\n",
    "    r\"$\\|F(\\mathbf{x}_k))\\|$\",\n",
    ")\n"
   ]
  }
 ],
 "metadata": {
  "kernelspec": {
   "display_name": "Python (monviso)",
   "language": "python",
   "name": "myenv"
  },
  "language_info": {
   "codemirror_mode": {
    "name": "ipython",
    "version": 3
   },
   "file_extension": ".py",
   "mimetype": "text/x-python",
   "name": "python",
   "nbconvert_exporter": "python",
   "pygments_lexer": "ipython3",
   "version": "3.13.5"
  }
 },
 "nbformat": 4,
 "nbformat_minor": 5
}
