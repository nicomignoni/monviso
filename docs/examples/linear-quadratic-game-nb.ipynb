{
 "cells": [
  {
   "cell_type": "markdown",
   "id": "4a112873-f6b4-45c8-9d8a-d97881309f5c",
   "metadata": {},
   "source": [
    "# Linear-Quadratic Dynamic Game\n",
    "\n",
    "As shown in Proposition 2 in [1], the receding horizon open-loop Nash equilibria (NE) can be reformulated as a non-symmetric variational inequality. Specifically, consider a set of agents $\\mathcal{N} = \\{1,\\dots,N\\}$ characterizing a state vector $\\mathbf{x}[t] \\in \\mathbb{R}^n$, whose (linear) dynamics is described as\n",
    "\n",
    "$$\n",
    "\\begin{equation}\n",
    "    \\mathbf{x}[t+1] = \\mathbf{A}\\mathbf{x}[t] + \\sum_{i \\in \\mathcal{N}} \\mathbf{B}_i \\mathbf{u}_i[t]\n",
    "\\end{equation}\n",
    "$$\n",
    "\n",
    "for $t = 1, \\dots, T$. Each agent $i$ selfishly tries to choose $\\mathbf{u}_i[t] \\in \\mathbb{R}^m$ in order to minimize the following cost function\n",
    "\n",
    "$$\n",
    "\\begin{equation}\n",
    "    J_i(\\mathbf{u}_i|\\mathbf{x}_0, \\mathbf{u}_{-i}) = \\frac{1}{2}\\sum_{t=0}^{T-1} \\|\\mathbf{x}[t|\\mathbf{x}_0, \\mathbf{u}]\\|^2_{\\mathbf{Q}_i} + \\|\\mathbf{u}_i[t] \\|^2_{\\mathbf{R}_i}\n",
    "\\end{equation}\n",
    "$$\n",
    "\n",
    "for some $0 \\preceq \\mathbf{Q}_i \\in \\mathbb{R}^{n \\times n}$ and $0 \\prec \\mathbf{R}_i \\in \\mathbb{R}^{m \\times m}$, with $\\mathbf{u}_{-i} = \\text{col}(\\mathbf{u}_j)_{j \\in \\mathcal{N}\\setminus \\{i\\}}$ and $\\mathbf{u}_j = \\text{col}(\\mathbf{u}_j[t])_{t=1}^T$. Moreover, $\\mathbf{u} = \\text{col}(\\mathbf{u}_i)_{i \\in \\mathcal{N}}$. The set of feasible inputs, for each agent $i \\in \\mathcal{N}$, is $\\mathcal{U}_i(\\mathbf{x}_0,\\mathbf{u}_{-i}) := \\{\\mathbf{u}_i \\in \\mathbb{R}^{mT} : \\mathbf{u}_i[t] \\in \\mathcal{U}_i(\\mathbf{u}_{-i}[t]), \\ \\forall t = 0,\\dots,T-1; \\ \\mathbf{x}[t|\\mathbf{x}_0, \\mathbf{u}] \\in \\mathcal{X}, \\ \\forall t = 1,\\dots,T\\}$, where $\\mathcal{X} \\in \\mathbb{R}^n$ is the set of feasible system states. Finally, $\\mathcal{U}(\\mathbf{x}_0) = \\{\\mathbf{u} \\in \\mathbb{R}^{mTN}: \\mathbf{u}_i \\in \\mathcal{U}(\\mathbf{x}_0,\\mathbf{u}_{-i}), \\ \\forall i \\in \\mathcal{N}\\}$. \n",
    "Following Definition 1 in [1], the sequence of input $\\mathbf{u}^*_i \\in \\mathcal{U}_i(\\mathbf{x}_0,\\mathbf{u}_{-i})$, for all $i \\in \\mathcal{N}$, characterizes an open-loop NE iff\n",
    "\n",
    "$$\n",
    "\\begin{equation}\n",
    "    J(\\mathbf{u}^*_i|\\mathbf{x}_0,\\mathbf{u}^*_{-i}) \\leq \\inf_{\\mathbf{u}_i \\in \\mathcal{U}_i(\\mathbf{x}_0, \\mathbf{u}^*_{-i})}\\left\\{ J(\\mathbf{u}^*_i|\\mathbf{x}_0,\\mathbf{u}_{-i}) \\right\\}\n",
    "\\end{equation}\n",
    "$$\n",
    "\n",
    "which is satisfied by the fixed-point of the best response mapping of each agent, defined as\n",
    "\n",
    "$$\n",
    "\\begin{equation}\n",
    "    \\label{eq:best_response}\n",
    "    \\mathbf{u}^*_i = \\underset{{\\mathbf{u}_i \\in \\mathcal{U}(\\mathbf{x}_0,\\mathbf{u}^*_{-i})}}{\\text{argmin}} J_i(\\mathbf{u}_i|\\mathbf{x}_0, \\mathbf{u}^*_{-i}), \\quad \\forall i \\in \\mathcal{N}\n",
    "\\end{equation}\n",
    "$$\n",
    "\n",
    "Proposition 2 in [1] states that any solution of the canonical VI is a solution for $\\eqref{eq:best_response}$ when $\\mathcal{S} = \\mathcal{U}(\\mathbf{x}_0)$ and $F : \\mathbb{R}^{mTN} \\to \\mathbb{R}^{mTN}$, defined as\n",
    "\n",
    "$$\n",
    "\\begin{equation}\n",
    "    F(\\mathbf{u}) = \\text{col}(\\mathbf{G}^\\top_i \\bar{\\mathbf{Q}}_i)_{i \\in \\mathcal{N}} (\\text{row}(\\mathbf{G}_i)_{i \\in \\mathcal{N}}\\mathbf{u} + \\mathbf{H} \\mathbf{x}_0) +\n",
    "    \\text{blkdiag}(\\mathbf{I}_T \\otimes \\mathbf{R}_i)_{i \\in \\mathcal{N}} \\mathbf{u}\n",
    "\\end{equation}\n",
    "$$\n",
    "\n",
    "where, for all $i \\in \\mathcal{N}$, $\\bar{\\mathbf{Q}}_i = \\text{blkdiag}(\\mathbf{I}_{T-1} \\otimes \\mathbf{Q}_i, \\mathbf{P}_i)$, $\\mathbf{G}_i = \\mathbf{e}^\\top_{1,T} \\otimes \\text{col}(\\mathbf{A}^t_i \\mathbf{B}_i)_{t=0}^{T-1} + \\mathbf{I}_T \\otimes \\mathbf{B}_i$ and $\\mathbf{H} = \\text{col}(\\mathbf{A}^t)_{t = 1}^T$. Matrix $\\mathbf{P}_i$ results from the open-loop NE feedback synthesis as discussed in [Equation 6] [1].\n",
    "\n",
    "## References\n",
    "[1] Benenati, E., & Grammatico, S. (2024). Linear-Quadratic Dynamic Games as Receding-Horizon Variational Inequalities. arXiv preprint arXiv:2408.15703.\n"
   ]
  },
  {
   "cell_type": "code",
   "execution_count": 1,
   "id": "5cc51740-6b84-405e-a4ea-0382f2d4de31",
   "metadata": {},
   "outputs": [
    {
     "name": "stdout",
     "output_type": "stream",
     "text": [
      "Using: pg\n",
      "Using: eg\n",
      "Using: popov\n",
      "Using: fbf\n",
      "Using: frb\n",
      "Using: prg\n",
      "Using: eag\n",
      "Using: arg\n",
      "Using: graal\n",
      "Using: agraal\n",
      "Using: hgraal_1\n",
      "Using: hgraal_2\n"
     ]
    },
    {
     "data": {
      "image/png": "[encoded data removed]",
      "text/plain": [
       "<Figure size 210x5 with 1 Axes>"
      ]
     },
     "metadata": {},
     "output_type": "display_data"
    },
    {
     "data": {
      "image/png": "[encoded data removed]",
      "text/plain": [
       "<Figure size 175x180 with 1 Axes>"
      ]
     },
     "metadata": {},
     "output_type": "display_data"
    }
   ],
   "source": [
    "import numpy as np\n",
    "import scipy as sp\n",
    "import cvxpy as cp\n",
    "import matplotlib.pyplot as plt\n",
    "\n",
    "from utils import *\n",
    "from monviso import VI\n",
    "\n",
    "np.random.rand(2024)\n",
    "\n",
    "# State and input sizes, number of agents, and time steps\n",
    "n, m, N, T = 13, 4, 5, 3\n",
    "\n",
    "# Problem data\n",
    "A = np.random.rand(n, n)\n",
    "B = [np.random.rand(n, m) for _ in range(N)]\n",
    "Q = [random_positive_definite_matrix(2, 4, n) for _ in range(N)]\n",
    "R = [random_positive_definite_matrix(1, 2, m) for _ in range(N)]\n",
    "P = np.random.rand(n, n)\n",
    "Q_bar = [sp.linalg.block_diag(np.kron(I(T - 1), Q[i]), P) for i in range(N)]\n",
    "G = [\n",
    "    np.kron(I(T), B[i])\n",
    "    + np.kron(\n",
    "        e(0, T),\n",
    "        np.vstack([np.linalg.matrix_power(A, t) @ B[i] for t in range(T)]),\n",
    "    )\n",
    "    for i in range(N)\n",
    "]\n",
    "H = np.vstack([np.linalg.matrix_power(A, t) for t in range(1, T + 1)])\n",
    "x0 = np.random.rand(n)\n",
    "\n",
    "# Define the mapping\n",
    "F1 = np.vstack([G[i].T @ Q_bar[i] for i in range(N)])\n",
    "F2 = np.hstack(G)\n",
    "F3 = sp.linalg.block_diag(*[np.kron(I(T), R[i]) for i in range(N)])\n",
    "F = lambda u: F1 @ (F2 @ u + H @ x0) + F3 @ u\n",
    "L = np.linalg.norm(F1 @ F2 + F3, 2) + 1\n",
    "\n",
    "# Define a constraints set for the collective input\n",
    "S = [lambda u: u >= 0]\n",
    "\n",
    "# Define the VI and the initial(s) points\n",
    "lqg = VI(m * T * N, F, S=S)\n",
    "u0 = [np.random.rand(m * T * N) for _ in range(2)]\n",
    "\n",
    "# Solve the VI using the available algorithms\n",
    "max_iter = 200\n",
    "for algorithm, params in cases(u0, L, excluded={\"cfogda\", \"fogda\"}).items():\n",
    "    print(f\"Using: {algorithm}\")\n",
    "    sol = lqg.solution(\n",
    "        algorithm,\n",
    "        params,\n",
    "        max_iter,\n",
    "        log_path=f\"logs/linear-quadratic-game/{algorithm}.log\",\n",
    "    )\n",
    "\n",
    "plot_results(\n",
    "    \"logs/linear-quadratic-game\",\n",
    "    \"figs/linear-quadratic-game.pdf\",\n",
    "    r\"$\\|\\mathbf{x}_k \\! - \\! \\text{proj}_{\\mathcal{S}}(\\mathbf{x}_k \\! - \\! F(\\mathbf{x}_k))\\|$\",\n",
    ")"
   ]
  }
 ],
 "metadata": {
  "kernelspec": {
   "display_name": "Python (monviso)",
   "language": "python",
   "name": "myenv"
  },
  "language_info": {
   "codemirror_mode": {
    "name": "ipython",
    "version": 3
   },
   "file_extension": ".py",
   "mimetype": "text/x-python",
   "name": "python",
   "nbconvert_exporter": "python",
   "pygments_lexer": "ipython3",
   "version": "3.13.5"
  }
 },
 "nbformat": 4,
 "nbformat_minor": 5
}
