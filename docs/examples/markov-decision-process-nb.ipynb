{
 "cells": [
  {
   "cell_type": "markdown",
   "id": "9e78865e-b152-44f2-b7b1-d1d264571eee",
   "metadata": {},
   "source": [
    "# Markov Decision Process\n",
    "\n",
    "A stationary discrete Markov Decision Process (MDP) is characterized by the tuple $(\\mathcal{X},\\mathcal{A},\\mathbb{P},r,\\gamma)$, where \n",
    "\n",
    "1. $\\mathcal{X}$ is the (finite countable) set of states; \n",
    "2. $\\mathcal{A}$ is the (finite countable) set of actions;\n",
    "3. $P : \\mathcal{X} \\times \\mathcal{A} \\times \\mathcal{X} \\to [0,1]$ is the transition probability function, such that $P(x,a,x^+)$ is the probability of ending up in state $x^+ \\in \\mathcal{S}$ from state $x \\in \\mathcal{X}$ when taking action $a \\in \\mathcal{A}$;\n",
    "4. $r : \\mathcal{X} \\times \\mathcal{X} \\to \\mathbb{R}$ is the reward function, so that $r(x,x^+)$ returns the reward for \n",
    "transitioning from state $x \\in \\mathcal{X}$ to state $x^+ \\in \\mathcal{X}$;\n",
    "5. $\\gamma \\in \\mathbb{R}_{> 0}$ is a discount factor [1].\n",
    "\n",
    "The aim is to find a policy, i.e., a function $\\pi : \\mathcal{S} \\to \\mathcal{A}$, returning the best action for any given state. A solution concept for MDP is the *value function*, $v^{\\pi} : \\mathcal{S} \\to \\mathbb{R}$, defined as\n",
    "$$\n",
    "\\begin{equation}\n",
    "    \\label{eq:bellman}\n",
    "    v^{\\pi}(x) = \\overbrace{\\sum_{x^+ \\in \\mathcal{X}} P(x,\\pi(x),x^+) \\left( r(x,x^+) + \\gamma v(x^+) \\right)}^{=:\\mathsf{T}(v^{\\pi})}\n",
    "\\end{equation}\n",
    "$$\n",
    "\n",
    "returning the \"goodness\" of policy $\\pi$. The expression in $\\eqref{eq:bellman}$ is known as *Bellman equation*, and can be expressed as an operator of $v^{\\pi}$, i.e., $\\mathsf{T}[v^\\pi(s)] =: \\mathsf{T}(v^{\\pi})$. It can be shown that the value function yielded by the optimal policy, $v^*$, results from the fixed-point problem $v^* = \\mathsf{T}(v^*)$. Therefore, the latter can be formulated as a canonical VI, with $F = \\mathsf{I} - \\mathsf{T}$.\n",
    "\n",
    "## References\n",
    "[1] Sutton, R. S., & Barto, A. G. (2018). Reinforcement learning: An introduction. MIT press."
   ]
  },
  {
   "cell_type": "code",
   "execution_count": 1,
   "id": "4294328d-a6ee-48a4-80b6-daea205a1b9c",
   "metadata": {},
   "outputs": [
    {
     "name": "stdout",
     "output_type": "stream",
     "text": [
      "Using: eg\n",
      "Using: popov\n",
      "Using: fbf\n",
      "Using: frb\n",
      "Using: prg\n",
      "Using: eag\n",
      "Using: arg\n",
      "Using: fogda\n",
      "Using: graal\n",
      "Using: agraal\n",
      "Using: hgraal_1\n",
      "Using: hgraal_2\n"
     ]
    },
    {
     "data": {
      "image/png": "[encoded data removed]",
      "text/plain": [
       "<Figure size 210x5 with 1 Axes>"
      ]
     },
     "metadata": {},
     "output_type": "display_data"
    },
    {
     "data": {
      "image/png": "[encoded data removed]",
      "text/plain": [
       "<Figure size 175x180 with 1 Axes>"
      ]
     },
     "metadata": {},
     "output_type": "display_data"
    }
   ],
   "source": [
    "import numpy as np\n",
    "import cvxpy as cp\n",
    "import matplotlib.pyplot as plt\n",
    "\n",
    "from utils import *\n",
    "from monviso import VI\n",
    "\n",
    "np.random.seed(2024)\n",
    "\n",
    "# Number of states and actions\n",
    "num_X, num_A = 20, 10\n",
    "\n",
    "# Discount factor\n",
    "gamma = 0.8\n",
    "\n",
    "# Transition probabilities\n",
    "P = np.random.rand(num_X, num_A, num_X)\n",
    "P /= P.sum(2, keepdims=True)\n",
    "\n",
    "# Reward\n",
    "R = np.random.rand(num_X, num_X)\n",
    "\n",
    "# Bellman operator (as fixed point) and VI mapping\n",
    "T = lambda v: np.einsum(\"ijk,ik -> ij\", P, R + gamma * v[None, :]).max(1)\n",
    "F = lambda x: x - T(x)\n",
    "L = 3\n",
    "\n",
    "# Create the VI and the initial solution(s)\n",
    "mdp = VI(num_X, F)\n",
    "x0 = [np.random.rand(num_X) for _ in range(2)]\n",
    "\n",
    "# Solve the VI using the available algorithms\n",
    "max_iter = 200\n",
    "for algorithm, params in cases(x0, L, excluded={\"pg\", \"cfogda\"}).items():\n",
    "    print(f\"Using: {algorithm}\")\n",
    "    sol = mdp.solution(\n",
    "        algorithm,\n",
    "        params,\n",
    "        max_iter,\n",
    "        eval_func=lambda x: np.linalg.norm(F(x), 2),\n",
    "        log_path=f\"logs/markov-decision-process/{algorithm}.log\",\n",
    "    )\n",
    "\n",
    "plot_results(\n",
    "    \"logs/markov-decision-process\",\n",
    "    \"figs/markov-decision-process.pdf\",\n",
    "    r\"$\\|F(\\mathbf{x}_k))\\|$\",\n",
    ")\n"
   ]
  }
 ],
 "metadata": {
  "kernelspec": {
   "display_name": "Python (monviso)",
   "language": "python",
   "name": "myenv"
  },
  "language_info": {
   "codemirror_mode": {
    "name": "ipython",
    "version": 3
   },
   "file_extension": ".py",
   "mimetype": "text/x-python",
   "name": "python",
   "nbconvert_exporter": "python",
   "pygments_lexer": "ipython3",
   "version": "3.13.5"
  }
 },
 "nbformat": 4,
 "nbformat_minor": 5
}
