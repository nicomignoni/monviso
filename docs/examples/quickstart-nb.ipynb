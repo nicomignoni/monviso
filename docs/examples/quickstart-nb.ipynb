{
 "cells": [
  {
   "cell_type": "markdown",
   "metadata": {},
   "source": [
    "# Quickstart\n",
    "\n",
    "Let $\\mathbf{F}(\\mathbf{x}) = \\mathbf{H} \\mathbf{x}$ for some $\\mathbf{H} \\succ \\mathbf{0}$, $g(\\mathbf{x}) = \\|\\mathbf{x}\\|_1$, and $\\mathcal{S} = \\{\\mathbf{x} \\in \\mathbb{R}^n : \\mathbf{A} \\mathbf{x} \\leq \\mathbf{b}\\}$, for some $\\mathbf{A} \\in \\mathbb{R}^{m \\times n}$ and $\\mathbf{b} \\in \\mathbb{R}^n$. "
   ]
  },
  {
   "cell_type": "code",
   "execution_count": 1,
   "metadata": {},
   "outputs": [],
   "source": [
    "import numpy as np\n",
    "import cvxpy as cp\n",
    "import matplotlib.pyplot as plt\n",
    "\n",
    "from monviso import prox_gradient\n",
    "\n",
    "np.random.seed(2024)"
   ]
  },
  {
   "cell_type": "code",
   "execution_count": 2,
   "metadata": {},
   "outputs": [],
   "source": [
    "# Create the problem data\n",
    "n, m = 30, 40\n",
    "H = np.random.uniform(2, 10, size=(n, n))\n",
    "A = np.random.uniform(3, 7, size=(m, n))\n",
    "b = np.random.uniform(45, 50, size=(m,))\n",
    "\n",
    "# Make H positive definite\n",
    "H = H @ H.T\n",
    "\n",
    "# Define F, g, and S\n",
    "F = lambda x: H @ x\n",
    "g = lambda x: cp.norm(x, 1)\n",
    "\n",
    "y = cp.Variable(n)\n",
    "S = [\n",
    "    A @ y >= b, \n",
    "    y >= 1\n",
    "]"
   ]
  },
  {
   "cell_type": "markdown",
   "metadata": {},
   "source": [
    "For didactic purposes, let's create an initial point that does not belong to $\\mathcal{S}$. "
   ]
  },
  {
   "cell_type": "code",
   "execution_count": null,
   "metadata": {},
   "outputs": [],
   "source": [
    "# Initial point\n",
    "x = np.random.uniform(-5, -4, n)"
   ]
  },
  {
   "cell_type": "markdown",
   "metadata": {},
   "source": [
    "It is straightforward to verify that $\\mathbf{F}(\\cdot)$ is strongly monotone with $\\mu = \\lambda_{\\min}(\\mathbf{H})$ \n",
    "and Lipschitz with $L = \\|\\mathbf{H}\\|_2$. "
   ]
  },
  {
   "cell_type": "code",
   "execution_count": 3,
   "metadata": {},
   "outputs": [],
   "source": [
    "# Lipschitz and strong monotonicity constants\n",
    "mu = np.linalg.eigvals(H).min()\n",
    "L = np.linalg.norm(H, 2)\n",
    "step_size = 2*mu / L**2"
   ]
  },
  {
   "cell_type": "markdown",
   "metadata": {},
   "source": [
    "Solving the VI in can be done using ``monviso`` as follows"
   ]
  },
  {
   "cell_type": "code",
   "execution_count": 4,
   "metadata": {},
   "outputs": [
    {
     "data": {
      "image/png": "[encoded data removed]",
      "text/plain": [
       "<Figure size 640x300 with 1 Axes>"
      ]
     },
     "metadata": {},
     "output_type": "display_data"
    }
   ],
   "source": [
    "# Define and solve the VI\n",
    "pg = prox_gradient(F, y, g, S)\n",
    "num_iterations = 10\n",
    "\n",
    "residuals = np.zeros(num_iterations)\n",
    "for k in range(num_iterations):\n",
    "    new_x = pg(x, step_size)\n",
    "    residuals[k] = np.linalg.norm(x - new_x)\n",
    "    x = new_x\n",
    "    \n",
    "# Plot the residual\n",
    "fig, ax = plt.subplots(figsize=(6.4, 3))\n",
    "ax.plot(residuals)\n",
    "ax.grid(True, alpha=0.2)\n",
    "ax.set_xlabel(\"Iterations ($k$)\")\n",
    "ax.set_ylabel(r\"$\\|\\mathbf{x}_{k+1} - \\mathbf{x}_k\\|$\")\n",
    "\n",
    "plt.show()"
   ]
  }
 ],
 "metadata": {
  "kernelspec": {
   "display_name": "Python 3 (ipykernel)",
   "language": "python",
   "name": "python3"
  },
  "language_info": {
   "codemirror_mode": {
    "name": "ipython",
    "version": 3
   },
   "file_extension": ".py",
   "mimetype": "text/x-python",
   "name": "python",
   "nbconvert_exporter": "python",
   "pygments_lexer": "ipython3",
   "version": "3.13.5"
  }
 },
 "nbformat": 4,
 "nbformat_minor": 4
}
